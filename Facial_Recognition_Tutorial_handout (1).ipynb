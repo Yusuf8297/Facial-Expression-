{
  "cells": [
    {
      "cell_type": "markdown",
      "metadata": {
        "id": "tPDjc1etFtpL"
      },
      "source": [
        "# 👷 Basic Setup 👷"
      ]
    },
    {
      "cell_type": "code",
      "execution_count": 19,
      "metadata": {
        "id": "a9QbmynrJYc9",
        "colab": {
          "base_uri": "https://localhost:8080/"
        },
        "outputId": "662e8da3-9f39-4a41-f9b0-7f907bd79a9e"
      },
      "outputs": [
        {
          "output_type": "stream",
          "name": "stdout",
          "text": [
            "Collecting face-recognition\n",
            "  Downloading face_recognition-1.3.0-py2.py3-none-any.whl (15 kB)\n",
            "Collecting face-recognition-models>=0.3.0 (from face-recognition)\n",
            "  Downloading face_recognition_models-0.3.0.tar.gz (100.1 MB)\n",
            "\u001b[2K     \u001b[90m━━━━━━━━━━━━━━━━━━━━━━━━━━━━━━━━━━━━━━━━\u001b[0m \u001b[32m100.1/100.1 MB\u001b[0m \u001b[31m8.9 MB/s\u001b[0m eta \u001b[36m0:00:00\u001b[0m\n",
            "\u001b[?25h  Preparing metadata (setup.py) ... \u001b[?25l\u001b[?25hdone\n",
            "Requirement already satisfied: Click>=6.0 in /usr/local/lib/python3.10/dist-packages (from face-recognition) (8.1.7)\n",
            "Requirement already satisfied: dlib>=19.7 in /usr/local/lib/python3.10/dist-packages (from face-recognition) (19.24.2)\n",
            "Requirement already satisfied: numpy in /usr/local/lib/python3.10/dist-packages (from face-recognition) (1.23.5)\n",
            "Requirement already satisfied: Pillow in /usr/local/lib/python3.10/dist-packages (from face-recognition) (9.4.0)\n",
            "Building wheels for collected packages: face-recognition-models\n",
            "  Building wheel for face-recognition-models (setup.py) ... \u001b[?25l\u001b[?25hdone\n",
            "  Created wheel for face-recognition-models: filename=face_recognition_models-0.3.0-py2.py3-none-any.whl size=100566170 sha256=a3d2073fdfd9acca8602cd27b2fcd712e4888eb3205ae98d0b93fed711b6f14c\n",
            "  Stored in directory: /root/.cache/pip/wheels/7a/eb/cf/e9eced74122b679557f597bb7c8e4c739cfcac526db1fd523d\n",
            "Successfully built face-recognition-models\n",
            "Installing collected packages: face-recognition-models, face-recognition\n",
            "Successfully installed face-recognition-1.3.0 face-recognition-models-0.3.0\n",
            "Requirement already satisfied: kaggle in /usr/local/lib/python3.10/dist-packages (1.5.16)\n",
            "Requirement already satisfied: six>=1.10 in /usr/local/lib/python3.10/dist-packages (from kaggle) (1.16.0)\n",
            "Requirement already satisfied: certifi in /usr/local/lib/python3.10/dist-packages (from kaggle) (2023.11.17)\n",
            "Requirement already satisfied: python-dateutil in /usr/local/lib/python3.10/dist-packages (from kaggle) (2.8.2)\n",
            "Requirement already satisfied: requests in /usr/local/lib/python3.10/dist-packages (from kaggle) (2.31.0)\n",
            "Requirement already satisfied: tqdm in /usr/local/lib/python3.10/dist-packages (from kaggle) (4.66.1)\n",
            "Requirement already satisfied: python-slugify in /usr/local/lib/python3.10/dist-packages (from kaggle) (8.0.1)\n",
            "Requirement already satisfied: urllib3 in /usr/local/lib/python3.10/dist-packages (from kaggle) (2.0.7)\n",
            "Requirement already satisfied: bleach in /usr/local/lib/python3.10/dist-packages (from kaggle) (6.1.0)\n",
            "Requirement already satisfied: webencodings in /usr/local/lib/python3.10/dist-packages (from bleach->kaggle) (0.5.1)\n",
            "Requirement already satisfied: text-unidecode>=1.3 in /usr/local/lib/python3.10/dist-packages (from python-slugify->kaggle) (1.3)\n",
            "Requirement already satisfied: charset-normalizer<4,>=2 in /usr/local/lib/python3.10/dist-packages (from requests->kaggle) (3.3.2)\n",
            "Requirement already satisfied: idna<4,>=2.5 in /usr/local/lib/python3.10/dist-packages (from requests->kaggle) (3.6)\n",
            "Collecting opendatasets\n",
            "  Downloading opendatasets-0.1.22-py3-none-any.whl (15 kB)\n",
            "Requirement already satisfied: tqdm in /usr/local/lib/python3.10/dist-packages (from opendatasets) (4.66.1)\n",
            "Requirement already satisfied: kaggle in /usr/local/lib/python3.10/dist-packages (from opendatasets) (1.5.16)\n",
            "Requirement already satisfied: click in /usr/local/lib/python3.10/dist-packages (from opendatasets) (8.1.7)\n",
            "Requirement already satisfied: six>=1.10 in /usr/local/lib/python3.10/dist-packages (from kaggle->opendatasets) (1.16.0)\n",
            "Requirement already satisfied: certifi in /usr/local/lib/python3.10/dist-packages (from kaggle->opendatasets) (2023.11.17)\n",
            "Requirement already satisfied: python-dateutil in /usr/local/lib/python3.10/dist-packages (from kaggle->opendatasets) (2.8.2)\n",
            "Requirement already satisfied: requests in /usr/local/lib/python3.10/dist-packages (from kaggle->opendatasets) (2.31.0)\n",
            "Requirement already satisfied: python-slugify in /usr/local/lib/python3.10/dist-packages (from kaggle->opendatasets) (8.0.1)\n",
            "Requirement already satisfied: urllib3 in /usr/local/lib/python3.10/dist-packages (from kaggle->opendatasets) (2.0.7)\n",
            "Requirement already satisfied: bleach in /usr/local/lib/python3.10/dist-packages (from kaggle->opendatasets) (6.1.0)\n",
            "Requirement already satisfied: webencodings in /usr/local/lib/python3.10/dist-packages (from bleach->kaggle->opendatasets) (0.5.1)\n",
            "Requirement already satisfied: text-unidecode>=1.3 in /usr/local/lib/python3.10/dist-packages (from python-slugify->kaggle->opendatasets) (1.3)\n",
            "Requirement already satisfied: charset-normalizer<4,>=2 in /usr/local/lib/python3.10/dist-packages (from requests->kaggle->opendatasets) (3.3.2)\n",
            "Requirement already satisfied: idna<4,>=2.5 in /usr/local/lib/python3.10/dist-packages (from requests->kaggle->opendatasets) (3.6)\n",
            "Installing collected packages: opendatasets\n",
            "Successfully installed opendatasets-0.1.22\n"
          ]
        }
      ],
      "source": [
        "# Install dependencies\n",
        "#  Don't forget to switch the Runtime type to T4!\n",
        "!pip install face-recognition\n",
        "!pip install kaggle\n",
        "!pip install opendatasets"
      ]
    },
    {
      "cell_type": "code",
      "execution_count": 20,
      "metadata": {
        "id": "RQYgybbMGIsC",
        "colab": {
          "base_uri": "https://localhost:8080/"
        },
        "outputId": "30508fb7-f10a-496b-8d3a-12301ab1ff67"
      },
      "outputs": [
        {
          "output_type": "stream",
          "name": "stdout",
          "text": [
            "Please provide your Kaggle credentials to download this dataset. Learn more: http://bit.ly/kaggle-creds\n",
            "Your Kaggle username: yusufauwalsani\n",
            "Your Kaggle Key: ··········\n",
            "Downloading face-expression-recognition-dataset.zip to ./face-expression-recognition-dataset\n"
          ]
        },
        {
          "output_type": "stream",
          "name": "stderr",
          "text": [
            "100%|██████████| 121M/121M [00:00<00:00, 130MB/s]\n"
          ]
        },
        {
          "output_type": "stream",
          "name": "stdout",
          "text": [
            "\n"
          ]
        }
      ],
      "source": [
        "# Download Kaggle Dataset for Facial Expression Recognition\n",
        "#  You will need your Kaggle username and password accessible under API Token here: https://www.kaggle.com/settings/account\n",
        "import opendatasets as od\n",
        "od.download('https://www.kaggle.com/datasets/jonathanoheix/face-expression-recognition-dataset')"
      ]
    },
    {
      "cell_type": "code",
      "execution_count": 21,
      "metadata": {
        "id": "Tni8Rp1jZh_P"
      },
      "outputs": [],
      "source": [
        "# Import common libraries\n",
        "import os\n",
        "import numpy as np\n",
        "from PIL import Image, ImageDraw\n",
        "import matplotlib.pyplot as plt\n",
        "import face_recognition"
      ]
    },
    {
      "cell_type": "code",
      "execution_count": 22,
      "metadata": {
        "id": "9A3hz5D9l2eE"
      },
      "outputs": [],
      "source": [
        "# Webcam Utilities\n",
        "# From https://stackoverflow.com/a/63590704 and https://colab.research.google.com/drive/1j7HTapCLx7BQUBp3USiQPZkA0zBKgLM0?usp=sharing\n",
        "#  Code snippets by furas - adapted by David Melhart\n",
        "#  Code licensed under CC-BY-SA 4.0 https://creativecommons.org/licenses/by-sa/4.0/\n",
        "#\n",
        "# based on: https://colab.research.google.com/notebooks/snippets/advanced_outputs.ipynb#scrollTo=2viqYx97hPMi\n",
        "#\n",
        "\n",
        "import cv2\n",
        "from IPython.display import display, Javascript\n",
        "from google.colab.output import eval_js\n",
        "from base64 import b64decode, b64encode\n",
        "\n",
        "\n",
        "def init_camera():\n",
        "  \"\"\"Create objects and functions in HTML/JavaScript to access local web camera\"\"\"\n",
        "\n",
        "  js = Javascript('''\n",
        "\n",
        "    // global variables to use in both functions\n",
        "    var div = null;\n",
        "    var video = null;   // <video> to display stream from local webcam\n",
        "    var stream = null;  // stream from local webcam\n",
        "    var canvas = null;  // <canvas> for single frame from <video> and convert frame to JPG\n",
        "    var img = null;     // <img> to display JPG after processing with `cv2`\n",
        "\n",
        "    async function initCamera() {\n",
        "      // place for video (and eventually buttons)\n",
        "      div = document.createElement('div');\n",
        "      div.style.display = 'flex';\n",
        "      div.style.width = '100%';\n",
        "      div.style.justifyContent = 'center';\n",
        "      document.body.appendChild(div);\n",
        "\n",
        "      // <video> to display video\n",
        "      video = document.createElement('video');\n",
        "      video.style.display = 'block';\n",
        "      div.appendChild(video);\n",
        "\n",
        "      // get webcam stream and assing to <video>\n",
        "      stream = await navigator.mediaDevices.getUserMedia({video: true});\n",
        "      video.srcObject = stream;\n",
        "\n",
        "      // start playing stream from webcam in <video>\n",
        "      await video.play();\n",
        "\n",
        "      // Resize the output to fit the video element.\n",
        "      google.colab.output.setIframeHeight(document.documentElement.scrollHeight, true);\n",
        "\n",
        "      // <canvas> for frame from <video>\n",
        "      canvas = document.createElement('canvas');\n",
        "      canvas.width = video.videoWidth;\n",
        "      canvas.height = video.videoHeight;\n",
        "\n",
        "      // <img> for image after processing with `cv2`\n",
        "      img = document.createElement('img');\n",
        "      img.width = video.videoWidth;\n",
        "      img.height = video.videoHeight;\n",
        "      div.appendChild(img);\n",
        "\n",
        "      label = document.createElement('h1');\n",
        "      label.style.textAlign = 'center';\n",
        "      label.innerHTML = '...';\n",
        "      document.body.appendChild(label);\n",
        "    }\n",
        "\n",
        "    async function takeImage(quality) {\n",
        "      // draw frame from <video> on <canvas>\n",
        "      canvas.getContext('2d').drawImage(video, 0, 0);\n",
        "\n",
        "      // stop webcam stream\n",
        "      //stream.getVideoTracks()[0].stop();\n",
        "\n",
        "      // get data from <canvas> as JPG image decoded base64 and with header \"data:image/jpg;base64,\"\n",
        "      return canvas.toDataURL('image/jpeg', quality);\n",
        "      //return canvas.toDataURL('image/png', quality);\n",
        "    }\n",
        "\n",
        "    async function showImage(image) {\n",
        "      // it needs string \"data:image/jpg;base64,JPG-DATA-ENCODED-BASE64\"\n",
        "      // it will replace previous image in `<img src=\"\">`\n",
        "      img.src = image;\n",
        "    }\n",
        "\n",
        "    async function showLabel(text) {\n",
        "      // it needs string\n",
        "      // it will replace image label `<h1></h1>`\n",
        "      label.innerHTML = text;\n",
        "    }\n",
        "\n",
        "  ''')\n",
        "\n",
        "  display(js)\n",
        "  eval_js('initCamera()')\n",
        "\n",
        "\n",
        "def take_frame(quality=0.8):\n",
        "  \"\"\"Get frame from web camera\"\"\"\n",
        "\n",
        "  data = eval_js('takeImage({})'.format(quality))  # run JavaScript code to get image (JPG as string base64) from <canvas>\n",
        "\n",
        "  header, data = data.split(',')  # split header (\"data:image/jpg;base64,\") and base64 data (JPG)\n",
        "  data = b64decode(data)  # decode base64\n",
        "  data = np.frombuffer(data, dtype=np.uint8)  # create numpy array with JPG data\n",
        "\n",
        "  img = cv2.imdecode(data, cv2.IMREAD_UNCHANGED)  # uncompress JPG data to array of pixels\n",
        "\n",
        "  return img\n",
        "\n",
        "\n",
        "def show_frame(img, quality=0.8):\n",
        "  \"\"\"Put frame as <img src=\"data:image/jpg;base64,....\"> \"\"\"\n",
        "\n",
        "  ret, data = cv2.imencode('.jpg', img)  # compress array of pixels to JPG data\n",
        "\n",
        "  data = b64encode(data)  # encode base64\n",
        "  data = data.decode()  # convert bytes to string\n",
        "  data = 'data:image/jpg;base64,' + data  # join header (\"data:image/jpg;base64,\") and base64 data (JPG)\n",
        "\n",
        "  eval_js('showImage(\"{}\")'.format(data))  # run JavaScript code to put image (JPG as string base64) in <img>\n",
        "                                           # argument in `showImage` needs `\" \"`\n",
        "\n",
        "\n",
        "def show_label(label):\n",
        "  \"\"\"Update image lavel\"\"\"\n",
        "  eval_js('showLabel(\"{}\")'.format(label))  # run JavaScript code to update image label in <h1>\n",
        "                                            # argument in `showImage` needs `\" \"`\n"
      ]
    },
    {
      "cell_type": "markdown",
      "metadata": {
        "id": "F5aHTjcEFW9n"
      },
      "source": [
        "# 👇 The Tutorial Starts Here 👇"
      ]
    },
    {
      "cell_type": "code",
      "execution_count": 23,
      "metadata": {
        "colab": {
          "base_uri": "https://localhost:8080/",
          "height": 1000
        },
        "id": "tB37FWlz6c-l",
        "outputId": "fe4046c2-bc5b-4744-b926-b0561ca81f74"
      },
      "outputs": [
        {
          "output_type": "display_data",
          "data": {
            "text/plain": [
              "<Figure size 640x480 with 1 Axes>"
            ],
            "image/png": "[encoded data removed]"
          },
          "metadata": {}
        },
        {
          "output_type": "display_data",
          "data": {
            "text/plain": [
              "<Figure size 640x480 with 1 Axes>"
            ],
            "image/png": "[encoded data removed]"
          },
          "metadata": {}
        },
        {
          "output_type": "execute_result",
          "data": {
            "text/plain": [
              "array([[[ 82,  82,  82],\n",
              "        [ 85,  85,  85],\n",
              "        [ 84,  84,  84],\n",
              "        ...,\n",
              "        [212, 212, 212],\n",
              "        [204, 204, 204],\n",
              "        [196, 196, 196]],\n",
              "\n",
              "       [[ 85,  85,  85],\n",
              "        [ 82,  82,  82],\n",
              "        [ 83,  83,  83],\n",
              "        ...,\n",
              "        [211, 211, 211],\n",
              "        [201, 201, 201],\n",
              "        [190, 190, 190]],\n",
              "\n",
              "       [[ 80,  80,  80],\n",
              "        [ 79,  79,  79],\n",
              "        [ 82,  82,  82],\n",
              "        ...,\n",
              "        [206, 206, 206],\n",
              "        [196, 196, 196],\n",
              "        [186, 186, 186]],\n",
              "\n",
              "       ...,\n",
              "\n",
              "       [[129, 129, 129],\n",
              "        [120, 120, 120],\n",
              "        [131, 131, 131],\n",
              "        ...,\n",
              "        [ 99,  99,  99],\n",
              "        [ 97,  97,  97],\n",
              "        [ 93,  93,  93]],\n",
              "\n",
              "       [[126, 126, 126],\n",
              "        [122, 122, 122],\n",
              "        [119, 119, 119],\n",
              "        ...,\n",
              "        [105, 105, 105],\n",
              "        [ 86,  86,  86],\n",
              "        [ 90,  90,  90]],\n",
              "\n",
              "       [[122, 122, 122],\n",
              "        [128, 128, 128],\n",
              "        [124, 124, 124],\n",
              "        ...,\n",
              "        [106, 106, 106],\n",
              "        [ 78,  78,  78],\n",
              "        [ 85,  85,  85]]], dtype=uint8)"
            ]
          },
          "metadata": {},
          "execution_count": 23
        }
      ],
      "source": [
        "# TODO:\n",
        "#  - Write facial recognition utiliy\n",
        "#    - Face detection - isolate faces\n",
        "#    - Visualization - facial landmark detection\n",
        "#    - Feature extraction - calculate facial embeddings\n",
        "#  - Make sure it works correctly on still images\n",
        "#  - Write processing script for dataset\n",
        "#  - Train an ML model to recognize emotions\n",
        "#  - Update the diplay function in the webcam utilites to display the prediction\n",
        "\n",
        "# facial recognition utiliy\n",
        "def find_face(image, only_face=True, verbose=False):\n",
        "  pixel_array = np.array(image)\n",
        "\n",
        "  try:\n",
        "    face_landmarks = face_recognition.face_landmarks(pixel_array)[0]\n",
        "\n",
        "    pixel_landmarks = Image.fromarray(pixel_array)\n",
        "    pil_im = ImageDraw.Draw(pixel_landmarks)\n",
        "    for landmark in face_landmarks:\n",
        "      pil_im.line(face_landmarks[landmark], width=1)\n",
        "\n",
        "    if only_face:\n",
        "      face_location = face_recognition.face_locations(pixel_array)[0]\n",
        "      top = face_location[0]\n",
        "      right = face_location[1]\n",
        "      bottom = face_location[2]\n",
        "      left = face_location[3]\n",
        "      pixel_face = np .array(pixel_landmarks)[top:bottom, left:right]\n",
        "      return pixel_face\n",
        "\n",
        "    return np.array(pixel_landmarks)\n",
        "\n",
        "  except Exception as err:\n",
        "    if verbose:\n",
        "      print(err)\n",
        "    pass\n",
        "\n",
        "image = Image.open(\"/content/face-expression-recognition-dataset/images/train/happy/1014.jpg\")\n",
        "image = image.convert(\"RGB\")\n",
        "plt.imshow(image)\n",
        "plt.show()\n",
        "\n",
        "landmarks = find_face(image, only_face=True)\n",
        "plt.imshow(landmarks)\n",
        "plt.show()\n",
        "\n",
        "\n",
        "find_face(image)\n"
      ]
    },
    {
      "cell_type": "code",
      "execution_count": 30,
      "metadata": {
        "id": "TFMed3_-3_rL"
      },
      "outputs": [],
      "source": [
        "# init_camera()\n",
        "# run_display()\n",
        "# run_display(verbose=True)\n",
        "\n",
        "base_dir = \"/content/face-expression-recognition-dataset/images/\"\n",
        "\n",
        "def get_set(dir=\"train\", label_size=None, labels=None):\n",
        "  X = []\n",
        "  y = []\n",
        "\n",
        "  for label in os.listdir(os.path.join(base_dir, dir)):\n",
        "    _label_size = label_size\n",
        "    if label is not None:\n",
        "      if label in labels:\n",
        "        pass\n",
        "      else:\n",
        "        continue\n",
        "\n",
        "    for filename in os.listdir(os.path.join(base_dir, dir, label)):\n",
        "      image = Image.open(os.path.join(base_dir, dir, label, filename))\n",
        "      image = image.convert(\"RGB\")\n",
        "      pixel_array = np.array(image)\n",
        "      # print(pixel_array)\n",
        "      try:\n",
        "        if _label_size is None or _label_size > 0:\n",
        "          face_embedding = face_recognition.face_encodings(pixel_array)[0]\n",
        "          X.append(face_embedding)\n",
        "          y.append(label)\n",
        "          if _label_size is not None:\n",
        "            _label_size -= 1\n",
        "      except Exception as err:\n",
        "        # print(err)\n",
        "        pass\n",
        "  return X, y\n"
      ]
    },
    {
      "cell_type": "code",
      "execution_count": 31,
      "metadata": {
        "id": "v68xo7VhFo02"
      },
      "outputs": [],
      "source": [
        "X_train, y_train = get_set(\"train\", 800, [\"angry\", \"happy\", \"disgust\", \"surprise\", \"sad\"])\n",
        "X_test, y_test = get_set(\"validation\", 200, [\"angry\", \"happy\", \"disgust\", \"surprise\", \"sad\"])\n",
        "\n",
        "# print(\"angry train\", sum([1 if x == \"angry\" else 0 for x in y_train]))\n",
        "# print(\"happy train\", sum([1 if x == \"happy\" else 0 for x in y_train]))\n",
        "# print(\"neutral train\", sum([1 if x == \"neutral\" else 0 for x in y_train]))\n",
        "\n",
        "# print(\"angry test\", sum([1 if x == \"angry\" else 0 for x in y_train]))\n",
        "# print(\"happy test\", sum([1 if x == \"happy\" else 0 for x in y_train]))\n",
        "# print(\"neutral test\", sum([1 if x == \"neutral\" else 0 for x in y_train]))"
      ]
    },
    {
      "cell_type": "code",
      "execution_count": 32,
      "metadata": {
        "colab": {
          "base_uri": "https://localhost:8080/"
        },
        "id": "sihqxsdmJ-Bm",
        "outputId": "5b3969cb-fe6e-4226-bd23-cc4fa02375e0"
      },
      "outputs": [
        {
          "output_type": "stream",
          "name": "stdout",
          "text": [
            "Train Acc:  96.55\n",
            "Test Acc:  63.89\n"
          ]
        }
      ],
      "source": [
        "from sklearn.svm import SVC\n",
        "\n",
        "svm_clf = SVC(kernel=\"rbf\", gamma=6)\n",
        "svm_clf.fit(X_train, y_train)\n",
        "svm_pred = svm_clf.predict(X_test)\n",
        "print(\"Train Acc: \", np.round(svm_clf.score(X_train, y_train)*100, 2))\n",
        "print(\"Test Acc: \", np.round(svm_clf.score(X_test, y_test)*100, 2))\n",
        "\n",
        "\n"
      ]
    },
    {
      "cell_type": "code",
      "source": [
        "import random\n",
        "import time\n",
        "\n",
        "# List of jokes\n",
        "jokes = [\n",
        "    \"Why don't scientists trust atoms? Because they make up everything!\",\n",
        "    \"Did you hear about the mathematician who's afraid of negative numbers? He will stop at nothing to avoid them!\",\n",
        "    \"Why don't skeletons fight each other? They don't have the guts!\",\n",
        "    \"I'm reading a book about anti-gravity. It's impossible to put down!\",\n",
        "    \"Why did the scarecrow win an award? Because he was outstanding in his field!\",\n",
        "]\n"
      ],
      "metadata": {
        "id": "nrPkUpvKXUrB"
      },
      "execution_count": 33,
      "outputs": []
    },
    {
      "cell_type": "code",
      "execution_count": 34,
      "metadata": {
        "id": "nI_t1RsSMklZ"
      },
      "outputs": [],
      "source": [
        "def run_display(quality=0.8, verbose=False):\n",
        "  \"\"\"\n",
        "  Update the running diplay with captures\n",
        "  Don't forget to call `init_camera` beforehand\n",
        "  \"\"\"\n",
        "  while True:\n",
        "      try:\n",
        "          img = take_frame(quality)  # export next frame from the webcam feed\n",
        "\n",
        "\n",
        "          face = find_face(img, only_face=True, verbose=True)\n",
        "\n",
        "          face_embeddings = face_recognition.face_encodings(img)[0]\n",
        "          label = svm_clf.predict(face_embeddings.reshape(1, -1))[0]\n",
        "\n",
        "          show_frame(face, quality)  # it replace previous image\n",
        "\n",
        "          #show_label(label) # it replaces the label in <h1> below the display\n",
        "\n",
        "          # Check if the input string is equal to \"angry\"\n",
        "          if label == \"angry\" or label == \"sad\" or label == \"disgust\":\n",
        "            # Generate a random joke\n",
        "            random_joke = random.choice(jokes)\n",
        "            show_label(label)\n",
        "            show_label(random_joke)\n",
        "          elif label == \"happy\" or label == \"surprise\":\n",
        "            show_label(label)\n",
        "            show_label(\"Laughter is the best medicine!\")\n",
        "\n",
        "      except Exception as err:\n",
        "        #if verbose:\n",
        "          #print('Exception:', err)\n",
        "        pass"
      ]
    },
    {
      "cell_type": "code",
      "execution_count": null,
      "metadata": {
        "id": "HfDkb-NQMkIo",
        "colab": {
          "base_uri": "https://localhost:8080/",
          "height": 34
        },
        "outputId": "9e500c88-3778-47aa-f7e3-77d2c28e67a3"
      },
      "outputs": [
        {
          "output_type": "stream",
          "name": "stdout",
          "text": [
            "list index out of range\n"
          ]
        }
      ],
      "source": [
        "init_camera()\n",
        "run_display()"
      ]
    }
  ],
  "metadata": {
    "accelerator": "GPU",
    "colab": {
      "provenance": [],
      "gpuType": "T4"
    },
    "kernelspec": {
      "display_name": "Python 3",
      "name": "python3"
    },
    "language_info": {
      "name": "python"
    }
  },
  "nbformat": 4,
  "nbformat_minor": 0
}