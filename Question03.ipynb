{
 "cells": [
  {
   "cell_type": "code",
   "execution_count": 52,
   "id": "7c4f7d33",
   "metadata": {},
   "outputs": [],
   "source": [
    "from deap import base\n",
    "from deap import creator\n",
    "from deap import tools\n",
    "\n",
    "import random\n",
    "import matplotlib.pyplot as plt"
   ]
  },
  {
   "cell_type": "code",
   "execution_count": 66,
   "id": "71205817",
   "metadata": {},
   "outputs": [],
   "source": [
    "\n",
    "# Test different parameter combinations to find the smallest configuration\n",
    "# that successfully finds a perfect solution (all bits = 1)\n",
    "test_configs = [\n",
    "    (50, 100),    # Test with population of 50, max 100 generations\n",
    "    (100, 100),    # Test with population of 100, max 100 generations\n",
    "   \n",
    "]\n",
    "\n",
    "# Store results from each test run\n",
    "results = []"
   ]
  },
  {
   "cell_type": "code",
   "execution_count": 67,
   "id": "9dd4220e",
   "metadata": {},
   "outputs": [
    {
     "name": "stdout",
     "output_type": "stream",
     "text": [
      "\n",
      "============================================================\n",
      "Testing: POPULATION_SIZE=50, MAX_GENERATIONS=100\n",
      "============================================================\n",
      "\n",
      "============================================================\n",
      "Testing: POPULATION_SIZE=100, MAX_GENERATIONS=100\n",
      "============================================================\n"
     ]
    }
   ],
   "source": [
    "\n",
    "for POPULATION_SIZE, MAX_GENERATIONS in test_configs:\n",
    "    # Print current test configuration\n",
    "    print(f\"\\n{'='*60}\")\n",
    "    print(f\"Testing: POPULATION_SIZE={POPULATION_SIZE}, MAX_GENERATIONS={MAX_GENERATIONS}\")\n",
    "    print(f\"{'='*60}\")"
   ]
  },
  {
   "cell_type": "code",
   "execution_count": 68,
   "id": "a0a13d37",
   "metadata": {},
   "outputs": [],
   "source": [
    "    P_CROSSOVER = 0.7  # probability for crossover\n",
    "    P_MUTATION = 0.01  # probability for mutating an individual\n",
    "\n",
    "    ONE_MAX_LENGTH = 50  \n",
    "    OPTIMAL_FITNESS = ONE_MAX_LENGTH // 2  # Optimal fitness is 25 (half of 50)\n",
    "\n",
    "    RANDOM_SEED = 42\n",
    "    random.seed(RANDOM_SEED)"
   ]
  },
  {
   "cell_type": "code",
   "execution_count": 70,
   "id": "d7c657db",
   "metadata": {},
   "outputs": [],
   "source": [
    "\n",
    "    toolbox = base.Toolbox()\n",
    "\n",
    "    # create an operator that randomly returns 0 or 1:\n",
    "    toolbox.register(\"zeroOrOne\", random.randint, 0, 1)\n",
    "\n",
    "    # define a single objective, maximizing fitness strategy:\n",
    "    # --- DEAP CREATOR DEFINITION ---\n",
    "    # Wrap in try-except to avoid RuntimeError if already created across test loops\n",
    "    # Though your initial code was set up to delete it, this is safer for re-running cells\n",
    "    try:\n",
    "        creator.create(\"FitnessMax\", base.Fitness, weights=(1.0,))\n",
    "    except:\n",
    "        pass # Already created\n",
    "    \n",
    "    try:\n",
    "        # create the Individual class based on list:\n",
    "        creator.create(\"Individual\", list, fitness=creator.FitnessMax)\n",
    "    except:\n",
    "        pass # Already created\n",
    "    # -------------------------------\n",
    "\n",
    "    # create the individual operator to fill up an Individual instance:\n",
    "    toolbox.register(\"individualCreator\", tools.initRepeat, creator.Individual, toolbox.zeroOrOne, ONE_MAX_LENGTH)\n",
    "\n",
    "    # create the population operator to generate a list of individuals:\n",
    "    toolbox.register(\"populationCreator\", tools.initRepeat, list, toolbox.individualCreator)"
   ]
  },
  {
   "cell_type": "code",
   "execution_count": 59,
   "id": "f8e71e6c",
   "metadata": {},
   "outputs": [],
   "source": [
    "    # HalfMax fitness function: maximum fitness when exactly 50% genes are 1\n",
    "    # Linear increase from 0 to 50%, then linear decrease from 50% to 100%\n",
    "    def halfMaxFitness(individual):\n",
    "        \"\"\"\n",
    "        Fitness function that rewards having exactly 50% ones.\n",
    "        - If sum <= length/2: fitness = sum (linear increase)\n",
    "        - If sum > length/2: fitness = length - sum (linear decrease)\n",
    "        \n",
    "        Example with length=50:\n",
    "        - 0 ones: fitness = 0\n",
    "        - 25 ones: fitness = 25 (optimal)\n",
    "        - 50 ones: fitness = 0\n",
    "        \"\"\"\n",
    "        i = sum(individual)\n",
    "        if i <= ONE_MAX_LENGTH / 2:\n",
    "            return i,  # return a tuple\n",
    "        else:\n",
    "            return ONE_MAX_LENGTH - i,  # return a tuple\n",
    "\n",
    "    toolbox.register(\"evaluate\", halfMaxFitness)"
   ]
  },
  {
   "cell_type": "code",
   "execution_count": 60,
   "id": "b1d28cb9",
   "metadata": {},
   "outputs": [],
   "source": [
    "\n",
    "    # genetic operators:\n",
    "\n",
    "    # Tournament selection with tournament size of 3:\n",
    "    # Randomly select 3 individuals, choose the best one\n",
    "    # This is repeated to fill the mating pool\n",
    "    toolbox.register(\"select\", tools.selTournament, tournsize=3)\n",
    "\n",
    "    # Single-point crossover:\n",
    "    toolbox.register(\"mate\", tools.cxOnePoint)\n",
    "\n",
    "    # Flip-bit mutation:\n",
    "    # indpb: Independent probability for each attribute to be flipped\n",
    "    toolbox.register(\"mutate\", tools.mutFlipBit, indpb=1.0/ONE_MAX_LENGTH)\n"
   ]
  },
  {
   "cell_type": "code",
   "execution_count": 61,
   "id": "da8de914",
   "metadata": {},
   "outputs": [],
   "source": [
    "\n",
    "\n",
    "    # create initial population (generation 0):\n",
    "    population = toolbox.populationCreator(n=POPULATION_SIZE)\n",
    "    generationCounter = 0\n",
    "\n",
    "    # calculate fitness tuple for each individual in the population:\n",
    "    fitnessValues = list(map(toolbox.evaluate, population))\n",
    "    for individual, fitnessValue in zip(population, fitnessValues):\n",
    "        individual.fitness.values = fitnessValue\n",
    "\n",
    "    # extract fitness values from all individuals in population:\n",
    "    fitnessValues = [individual.fitness.values[0] for individual in population]\n",
    "\n",
    "    # initialize statistics accumulators:\n",
    "    maxFitnessValues = []\n",
    "    meanFitnessValues = []"
   ]
  },
  {
   "cell_type": "code",
   "execution_count": 62,
   "id": "744a3c0c",
   "metadata": {},
   "outputs": [],
   "source": [
    "\n",
    "\n",
    "\n",
    "    # main evolutionary loop:\n",
    "    # stop if max fitness value reached the optimal fitness (25)\n",
    "    # OR if number of generations exceeded the preset value:\n",
    "    while max(fitnessValues) < OPTIMAL_FITNESS and generationCounter < MAX_GENERATIONS:\n",
    "        # update counter:\n",
    "        generationCounter = generationCounter + 1\n",
    "\n",
    "        # apply the selection operator, to select the next generation's individuals:\n",
    "        offspring = toolbox.select(population, len(population))\n",
    "        # clone the selected individuals (UNCOMMENTED - necessary for proper GA operation):\n",
    "        # Without cloning, we would modify the original population directly\n",
    "        offspring = list(map(toolbox.clone, offspring))\n",
    "\n",
    "        # apply the crossover operator to pairs of offspring:\n",
    "        for child1, child2 in zip(offspring[::2], offspring[1::2]):\n",
    "            if random.random() < P_CROSSOVER:\n",
    "                toolbox.mate(child1, child2)\n",
    "                del child1.fitness.values\n",
    "                del child2.fitness.values\n",
    "\n",
    "        for mutant in offspring:\n",
    "            if random.random() < P_MUTATION:\n",
    "                toolbox.mutate(mutant)\n",
    "                del mutant.fitness.values\n",
    "\n",
    "        # calculate fitness for the individuals with no previous calculated fitness value:\n",
    "        freshIndividuals = [ind for ind in offspring if not ind.fitness.valid]\n",
    "        freshFitnessValues = list(map(toolbox.evaluate, freshIndividuals))\n",
    "        for individual, fitnessValue in zip(freshIndividuals, freshFitnessValues):\n",
    "            individual.fitness.values = fitnessValue\n",
    "\n",
    "        # replace the current population with the offspring:\n",
    "        population[:] = offspring\n",
    "\n",
    "        # collect fitnessValues into a list, update statistics and print:\n",
    "        fitnessValues = [ind.fitness.values[0] for ind in population]\n",
    "\n",
    "        maxFitness = max(fitnessValues)\n",
    "        meanFitness = sum(fitnessValues) / len(population)\n",
    "        maxFitnessValues.append(maxFitness)\n",
    "        meanFitnessValues.append(meanFitness)\n",
    "        print(\"- Generation {}: Max Fitness = {}, Avg Fitness = {}\".format(generationCounter, maxFitness, meanFitness))\n",
    "\n",
    "        # find and print best individual:\n",
    "        best_index = fitnessValues.index(max(fitnessValues))\n",
    "        print(\"Best Individual = \", *population[best_index], \"\\n\")"
   ]
  },
  {
   "cell_type": "code",
   "execution_count": 63,
   "id": "40ff081f",
   "metadata": {},
   "outputs": [
    {
     "name": "stdout",
     "output_type": "stream",
     "text": [
      "\n",
      "*** SUCCESS! Perfect solution found in generation 0\n",
      "*** Individuals processed: 0 (800 × 0)\n"
     ]
    }
   ],
   "source": [
    "\n",
    "\n",
    "    # A perfect solution has exactly 25 ones, so fitness = 25\n",
    "    if max(fitnessValues) == OPTIMAL_FITNESS:\n",
    "        # Calculate total individuals processed (population size × generations)\n",
    "        individuals_processed = POPULATION_SIZE * generationCounter\n",
    "        print(f\"\\n*** SUCCESS! Perfect solution found in generation {generationCounter}\")\n",
    "        print(f\"*** Individuals processed: {individuals_processed} ({POPULATION_SIZE} × {generationCounter})\")\n",
    "        # Store result: (pop_size, max_gen, actual_gen_used, individuals_processed, success_flag)\n",
    "        results.append((POPULATION_SIZE, MAX_GENERATIONS, generationCounter, individuals_processed, True))\n",
    "    else:\n",
    "        print(f\"\\n*** FAILED - Did not find perfect solution within {MAX_GENERATIONS} generations\")\n",
    "        print(f\"*** Best fitness achieved: {max(fitnessValues)} out of {OPTIMAL_FITNESS}\")\n",
    "        # Store failed result\n",
    "        results.append((POPULATION_SIZE, MAX_GENERATIONS, generationCounter, None, False))\n",
    "    "
   ]
  },
  {
   "cell_type": "code",
   "execution_count": 65,
   "id": "c4e0a10a",
   "metadata": {},
   "outputs": [
    {
     "data": {
      "image/png": "[encoded data removed]",
      "text/plain": [
       "<Figure size 1000x600 with 1 Axes>"
      ]
     },
     "metadata": {},
     "output_type": "display_data"
    }
   ],
   "source": [
    "\n",
    "\n",
    "    # Genetic Algorithm is done - plot statistics:\n",
    "    #sns.set_style(\"whitegrid\")\n",
    "    plt.figure(figsize=(10, 6))\n",
    "    plt.plot(maxFitnessValues, color='red', label='Max Fitness')\n",
    "    plt.plot(meanFitnessValues, color='green', label='Average Fitness')\n",
    "    plt.axhline(y=OPTIMAL_FITNESS, color='blue', linestyle='--', label='Optimal Fitness (25)')\n",
    "    plt.xlabel('Generation')\n",
    "    plt.ylabel('Max / Average Fitness')\n",
    "    plt.title(f'HalfMax: Fitness over Generations (Pop={POPULATION_SIZE}, MaxGen={MAX_GENERATIONS})')\n",
    "    plt.legend()\n",
    "    plt.grid(True, alpha=0.3)\n",
    "    plt.show()\n",
    "    \n",
    "    # Clean up DEAP creators for next iteration\n",
    "    # This is necessary to avoid conflicts when testing multiple configurations\n",
    "    # FIX: Use try...except to prevent AttributeError on subsequent loops\n",
    "    try:\n",
    "        del creator.FitnessMax\n",
    "        del creator.Individual\n",
    "    except AttributeError:\n",
    "        pass # Ignore if already deleted\n"
   ]
  }
 ],
 "metadata": {
  "kernelspec": {
   "display_name": "Python 3",
   "language": "python",
   "name": "python3"
  },
  "language_info": {
   "codemirror_mode": {
    "name": "ipython",
    "version": 3
   },
   "file_extension": ".py",
   "mimetype": "text/x-python",
   "name": "python",
   "nbconvert_exporter": "python",
   "pygments_lexer": "ipython3",
   "version": "3.11.3"
  }
 },
 "nbformat": 4,
 "nbformat_minor": 5
}
