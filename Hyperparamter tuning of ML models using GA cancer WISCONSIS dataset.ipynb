{
 "cells": [
  {
   "cell_type": "markdown",
   "id": "86c19785",
   "metadata": {},
   "source": [
    "Understand the Dataset and Goal\n",
    "\n",
    "Dataset: The Wisconsin Breast Cancer dataset is a classic binary classification problem. Here the goal is to predict whether a tumor is benign or malignant.\n",
    "\n",
    "Features: The dataset typically contains 30 features derived from digitized images of fine needle aspirates (FNA) of breast masses. These features describe characteristics of cell nuclei, such as mean radius, texture, perimeter, etc.\n",
    "\n",
    "Target: The target variable is the diagnosis (benign or malignant).\n",
    "\n",
    "Objective: Overall goal is to build a machine learning model that accurately classifies new breast cancer cases. Hyperparameter optimization is a crucial step to achieve the best possible performance."
   ]
  },
  {
   "cell_type": "code",
   "execution_count": 1,
   "id": "de8e8aba",
   "metadata": {},
   "outputs": [
    {
     "name": "stdout",
     "output_type": "stream",
     "text": [
      "Requirement already satisfied: deap in c:\\users\\utente\\anaconda3\\lib\\site-packages (1.4.3)\n",
      "Requirement already satisfied: numpy in c:\\users\\utente\\anaconda3\\lib\\site-packages (from deap) (1.26.4)\n",
      "Note: you may need to restart the kernel to use updated packages.\n"
     ]
    },
    {
     "name": "stderr",
     "output_type": "stream",
     "text": [
      "\n",
      "[notice] A new release of pip is available: 25.1.1 -> 25.2\n",
      "[notice] To update, run: python.exe -m pip install --upgrade pip\n"
     ]
    }
   ],
   "source": [
    "%pip install deap"
   ]
  },
  {
   "cell_type": "code",
   "execution_count": 1,
   "id": "48a81b8f",
   "metadata": {},
   "outputs": [],
   "source": [
    "import numpy as np\n",
    "from sklearn.model_selection import cross_val_score\n",
    "from sklearn.ensemble import RandomForestClassifier\n",
    "from deap import base,creator,tools,algorithms\n",
    "import pandas as pd"
   ]
  },
  {
   "cell_type": "code",
   "execution_count": 2,
   "id": "a8f3c7ad",
   "metadata": {},
   "outputs": [
    {
     "data": {
      "text/html": [
       "<div>\n",
       "<style scoped>\n",
       "    .dataframe tbody tr th:only-of-type {\n",
       "        vertical-align: middle;\n",
       "    }\n",
       "\n",
       "    .dataframe tbody tr th {\n",
       "        vertical-align: top;\n",
       "    }\n",
       "\n",
       "    .dataframe thead th {\n",
       "        text-align: right;\n",
       "    }\n",
       "</style>\n",
       "<table border=\"1\" class=\"dataframe\">\n",
       "  <thead>\n",
       "    <tr style=\"text-align: right;\">\n",
       "      <th></th>\n",
       "      <th>radius1</th>\n",
       "      <th>texture1</th>\n",
       "      <th>perimeter1</th>\n",
       "      <th>area1</th>\n",
       "      <th>smoothness1</th>\n",
       "      <th>compactness1</th>\n",
       "      <th>concavity1</th>\n",
       "      <th>concave_points1</th>\n",
       "      <th>symmetry1</th>\n",
       "      <th>fractal_dimension1</th>\n",
       "      <th>...</th>\n",
       "      <th>texture3</th>\n",
       "      <th>perimeter3</th>\n",
       "      <th>area3</th>\n",
       "      <th>smoothness3</th>\n",
       "      <th>compactness3</th>\n",
       "      <th>concavity3</th>\n",
       "      <th>concave_points3</th>\n",
       "      <th>symmetry3</th>\n",
       "      <th>fractal_dimension3</th>\n",
       "      <th>Diagnosis</th>\n",
       "    </tr>\n",
       "  </thead>\n",
       "  <tbody>\n",
       "    <tr>\n",
       "      <th>0</th>\n",
       "      <td>19.318</td>\n",
       "      <td>21.61</td>\n",
       "      <td>126.66</td>\n",
       "      <td>1133.6</td>\n",
       "      <td>0.08633</td>\n",
       "      <td>0.10965</td>\n",
       "      <td>0.190756</td>\n",
       "      <td>0.111431</td>\n",
       "      <td>0.1884</td>\n",
       "      <td>0.06073</td>\n",
       "      <td>...</td>\n",
       "      <td>28.87</td>\n",
       "      <td>144.82</td>\n",
       "      <td>1421.4</td>\n",
       "      <td>0.12850</td>\n",
       "      <td>0.28104</td>\n",
       "      <td>0.584693</td>\n",
       "      <td>0.210785</td>\n",
       "      <td>0.3064</td>\n",
       "      <td>0.08724</td>\n",
       "      <td>M</td>\n",
       "    </tr>\n",
       "    <tr>\n",
       "      <th>1</th>\n",
       "      <td>13.194</td>\n",
       "      <td>11.80</td>\n",
       "      <td>85.03</td>\n",
       "      <td>501.7</td>\n",
       "      <td>0.09764</td>\n",
       "      <td>0.11818</td>\n",
       "      <td>0.074654</td>\n",
       "      <td>0.026992</td>\n",
       "      <td>0.2045</td>\n",
       "      <td>0.06507</td>\n",
       "      <td>...</td>\n",
       "      <td>15.59</td>\n",
       "      <td>92.55</td>\n",
       "      <td>618.8</td>\n",
       "      <td>0.13862</td>\n",
       "      <td>0.31884</td>\n",
       "      <td>0.190528</td>\n",
       "      <td>0.098769</td>\n",
       "      <td>0.3480</td>\n",
       "      <td>0.09263</td>\n",
       "      <td>B</td>\n",
       "    </tr>\n",
       "    <tr>\n",
       "      <th>2</th>\n",
       "      <td>9.104</td>\n",
       "      <td>14.93</td>\n",
       "      <td>58.01</td>\n",
       "      <td>246.3</td>\n",
       "      <td>0.10835</td>\n",
       "      <td>0.09520</td>\n",
       "      <td>0.027825</td>\n",
       "      <td>0.019091</td>\n",
       "      <td>0.1924</td>\n",
       "      <td>0.07006</td>\n",
       "      <td>...</td>\n",
       "      <td>23.66</td>\n",
       "      <td>67.05</td>\n",
       "      <td>339.2</td>\n",
       "      <td>0.14053</td>\n",
       "      <td>0.16558</td>\n",
       "      <td>0.074658</td>\n",
       "      <td>0.070532</td>\n",
       "      <td>0.2867</td>\n",
       "      <td>0.08641</td>\n",
       "      <td>B</td>\n",
       "    </tr>\n",
       "    <tr>\n",
       "      <th>3</th>\n",
       "      <td>13.775</td>\n",
       "      <td>22.65</td>\n",
       "      <td>90.22</td>\n",
       "      <td>609.8</td>\n",
       "      <td>0.10376</td>\n",
       "      <td>0.12046</td>\n",
       "      <td>0.095362</td>\n",
       "      <td>0.046752</td>\n",
       "      <td>0.2159</td>\n",
       "      <td>0.07298</td>\n",
       "      <td>...</td>\n",
       "      <td>32.21</td>\n",
       "      <td>98.22</td>\n",
       "      <td>700.5</td>\n",
       "      <td>0.13305</td>\n",
       "      <td>0.23207</td>\n",
       "      <td>0.135525</td>\n",
       "      <td>0.110046</td>\n",
       "      <td>0.2730</td>\n",
       "      <td>0.09003</td>\n",
       "      <td>B</td>\n",
       "    </tr>\n",
       "    <tr>\n",
       "      <th>4</th>\n",
       "      <td>16.435</td>\n",
       "      <td>15.02</td>\n",
       "      <td>102.23</td>\n",
       "      <td>886.4</td>\n",
       "      <td>0.05263</td>\n",
       "      <td>0.02643</td>\n",
       "      <td>0.008280</td>\n",
       "      <td>0.006243</td>\n",
       "      <td>0.1370</td>\n",
       "      <td>0.04996</td>\n",
       "      <td>...</td>\n",
       "      <td>18.44</td>\n",
       "      <td>117.81</td>\n",
       "      <td>1122.9</td>\n",
       "      <td>0.09840</td>\n",
       "      <td>0.04447</td>\n",
       "      <td>0.022537</td>\n",
       "      <td>0.030436</td>\n",
       "      <td>0.2270</td>\n",
       "      <td>0.05791</td>\n",
       "      <td>B</td>\n",
       "    </tr>\n",
       "  </tbody>\n",
       "</table>\n",
       "<p>5 rows × 31 columns</p>\n",
       "</div>"
      ],
      "text/plain": [
       "   radius1  texture1  perimeter1   area1  smoothness1  compactness1  \\\n",
       "0   19.318     21.61      126.66  1133.6      0.08633       0.10965   \n",
       "1   13.194     11.80       85.03   501.7      0.09764       0.11818   \n",
       "2    9.104     14.93       58.01   246.3      0.10835       0.09520   \n",
       "3   13.775     22.65       90.22   609.8      0.10376       0.12046   \n",
       "4   16.435     15.02      102.23   886.4      0.05263       0.02643   \n",
       "\n",
       "   concavity1  concave_points1  symmetry1  fractal_dimension1  ...  texture3  \\\n",
       "0    0.190756         0.111431     0.1884             0.06073  ...     28.87   \n",
       "1    0.074654         0.026992     0.2045             0.06507  ...     15.59   \n",
       "2    0.027825         0.019091     0.1924             0.07006  ...     23.66   \n",
       "3    0.095362         0.046752     0.2159             0.07298  ...     32.21   \n",
       "4    0.008280         0.006243     0.1370             0.04996  ...     18.44   \n",
       "\n",
       "   perimeter3   area3  smoothness3  compactness3  concavity3  concave_points3  \\\n",
       "0      144.82  1421.4      0.12850       0.28104    0.584693         0.210785   \n",
       "1       92.55   618.8      0.13862       0.31884    0.190528         0.098769   \n",
       "2       67.05   339.2      0.14053       0.16558    0.074658         0.070532   \n",
       "3       98.22   700.5      0.13305       0.23207    0.135525         0.110046   \n",
       "4      117.81  1122.9      0.09840       0.04447    0.022537         0.030436   \n",
       "\n",
       "   symmetry3  fractal_dimension3  Diagnosis  \n",
       "0     0.3064             0.08724          M  \n",
       "1     0.3480             0.09263          B  \n",
       "2     0.2867             0.08641          B  \n",
       "3     0.2730             0.09003          B  \n",
       "4     0.2270             0.05791          B  \n",
       "\n",
       "[5 rows x 31 columns]"
      ]
     },
     "execution_count": 2,
     "metadata": {},
     "output_type": "execute_result"
    }
   ],
   "source": [
    "data = pd.read_csv(\"C:/Users/Utente/Desktop/BDS/FORGE_WEEKLY_CODE/07082025/Synthetic_data_Wiscon_cancer_dataset.csv\")\n",
    "data.head()"
   ]
  },
  {
   "cell_type": "code",
   "execution_count": 3,
   "id": "5828017c",
   "metadata": {},
   "outputs": [],
   "source": [
    "X = data.drop('Diagnosis', axis=1)\n",
    "y = data['Diagnosis']"
   ]
  },
  {
   "cell_type": "code",
   "execution_count": 4,
   "id": "14b043be",
   "metadata": {},
   "outputs": [],
   "source": [
    "HYPERPARAMETER_SPACE = {\n",
    "    'n_estimators': [10, 50, 100, 200, 500],\n",
    "    'max_depth': [None, 5, 10, 20],\n",
    "    'min_samples_split': [2, 5, 10],\n",
    "    'min_samples_leaf': [1, 2, 4],\n",
    "}"
   ]
  },
  {
   "cell_type": "code",
   "execution_count": 10,
   "id": "b1ed3c59",
   "metadata": {},
   "outputs": [],
   "source": [
    "# Encode None as 0 for mutation\n",
    "def encode_max_depth(val):\n",
    "    return 0 if val is None else val\n",
    "\n",
    "def decode_max_depth(val):\n",
    "    return None if val == 0 else val"
   ]
  },
  {
   "cell_type": "code",
   "execution_count": 12,
   "id": "bc5c499a",
   "metadata": {},
   "outputs": [
    {
     "name": "stderr",
     "output_type": "stream",
     "text": [
      "c:\\Users\\Utente\\anaconda3\\Lib\\site-packages\\deap\\creator.py:185: RuntimeWarning: A class named 'FitnessMax' has already been created and it will be overwritten. Consider deleting previous creation of that class or rename it.\n",
      "  warnings.warn(\"A class named '{0}' has already been created and it \"\n",
      "c:\\Users\\Utente\\anaconda3\\Lib\\site-packages\\deap\\creator.py:185: RuntimeWarning: A class named 'Individual' has already been created and it will be overwritten. Consider deleting previous creation of that class or rename it.\n",
      "  warnings.warn(\"A class named '{0}' has already been created and it \"\n"
     ]
    }
   ],
   "source": [
    "import random\n",
    "# DEAP setup\n",
    "creator.create(\"FitnessMax\", base.Fitness, weights=(1.0,))\n",
    "creator.create(\"Individual\", list, fitness=creator.FitnessMax)\n",
    "\n",
    "toolbox = base.Toolbox()\n",
    "\n",
    "# Generate individual\n",
    "def generate_individual():\n",
    "    individual = [\n",
    "        random.choice(HYPERPARAMETER_SPACE['n_estimators']),\n",
    "        encode_max_depth(random.choice(HYPERPARAMETER_SPACE['max_depth'])),\n",
    "        random.choice(HYPERPARAMETER_SPACE['min_samples_split']),\n",
    "        random.choice(HYPERPARAMETER_SPACE['min_samples_leaf'])\n",
    "    ]\n",
    "    return creator.Individual(individual)\n",
    "\n",
    "toolbox.register(\"individual\", generate_individual)\n",
    "toolbox.register(\"population\", tools.initRepeat, list, toolbox.individual)"
   ]
  },
  {
   "cell_type": "code",
   "execution_count": 13,
   "id": "3d06b43c",
   "metadata": {},
   "outputs": [],
   "source": [
    "# Fitness evaluation function\n",
    "def evaluate_individual(individual):\n",
    "    hyperparameters = {\n",
    "        'n_estimators': individual[0],\n",
    "        'max_depth': decode_max_depth(individual[1]),\n",
    "        'min_samples_split': individual[2],\n",
    "        'min_samples_leaf': individual[3]\n",
    "    }\n",
    "    model = RandomForestClassifier(**hyperparameters, random_state=42)\n",
    "    score = np.mean(cross_val_score(model, X, y, cv=5, scoring='accuracy'))\n",
    "    return (score,)\n",
    "\n",
    "toolbox.register(\"evaluate\", evaluate_individual)\n",
    "toolbox.register(\"select\", tools.selTournament, tournsize=3)\n",
    "toolbox.register(\"mate\", tools.cxTwoPoint)"
   ]
  },
  {
   "cell_type": "code",
   "execution_count": 14,
   "id": "33aa8ab8",
   "metadata": {},
   "outputs": [],
   "source": [
    "# Mutation bounds\n",
    "toolbox.register(\n",
    "    \"mutate\", \n",
    "    tools.mutUniformInt, \n",
    "    low=[\n",
    "        min(HYPERPARAMETER_SPACE['n_estimators']),\n",
    "        0,  # encoded None\n",
    "        min(HYPERPARAMETER_SPACE['min_samples_split']),\n",
    "        min(HYPERPARAMETER_SPACE['min_samples_leaf'])\n",
    "    ],\n",
    "    up=[\n",
    "        max(HYPERPARAMETER_SPACE['n_estimators']),\n",
    "        max(filter(None, HYPERPARAMETER_SPACE['max_depth'])),\n",
    "        max(HYPERPARAMETER_SPACE['min_samples_split']),\n",
    "        max(HYPERPARAMETER_SPACE['min_samples_leaf'])\n",
    "    ],\n",
    "    indpb=0.1\n",
    ")"
   ]
  },
  {
   "cell_type": "code",
   "execution_count": 16,
   "id": "e2f43158",
   "metadata": {},
   "outputs": [
    {
     "name": "stdout",
     "output_type": "stream",
     "text": [
      "gen\tnevals\tavg     \tmax     \tmin     \n",
      "0  \t50    \t0.752582\t0.762785\t0.727682\n",
      "1  \t35    \t0.757154\t0.762785\t0.745226\n",
      "2  \t31    \t0.757616\t0.762785\t0.745241\n",
      "3  \t25    \t0.759406\t0.762785\t0.745257\n",
      "4  \t35    \t0.759859\t0.762785\t0.739947\n",
      "5  \t19    \t0.760772\t0.762785\t0.739947\n",
      "6  \t37    \t0.760782\t0.762785\t0.736438\n",
      "7  \t28    \t0.762785\t0.762785\t0.762785\n",
      "8  \t26    \t0.762118\t0.762785\t0.746949\n",
      "9  \t30    \t0.761659\t0.762785\t0.745195\n",
      "10 \t34    \t0.762223\t0.762785\t0.741655\n",
      "11 \t35    \t0.762574\t0.762785\t0.755783\n",
      "12 \t27    \t0.762399\t0.762785\t0.750474\n",
      "13 \t34    \t0.762259\t0.762785\t0.74698 \n",
      "14 \t30    \t0.762224\t0.762785\t0.752243\n",
      "15 \t25    \t0.762434\t0.762785\t0.752259\n",
      "16 \t25    \t0.762539\t0.762785\t0.750489\n",
      "17 \t22    \t0.762399\t0.762785\t0.743456\n",
      "18 \t30    \t0.762785\t0.762785\t0.762785\n",
      "19 \t28    \t0.762046\t0.762785\t0.745195\n",
      "20 \t27    \t0.762259\t0.762785\t0.74698 \n"
     ]
    }
   ],
   "source": [
    "# Evolve\n",
    "population, logbook = algorithms.eaSimple(\n",
    "    population,\n",
    "    toolbox,\n",
    "    cxpb=0.5,\n",
    "    mutpb=0.2,\n",
    "    ngen=20,\n",
    "    stats=stats,\n",
    "    halloffame=hall_of_fame,\n",
    "    verbose=True\n",
    ")"
   ]
  },
  {
   "cell_type": "code",
   "execution_count": 17,
   "id": "382dbe23",
   "metadata": {},
   "outputs": [],
   "source": [
    "# Show the best individual\n",
    "best_individual = hall_of_fame[0]\n",
    "best_hyperparams = {\n",
    "    'n_estimators': best_individual[0],\n",
    "    'max_depth': decode_max_depth(best_individual[1]),\n",
    "    'min_samples_split': best_individual[2],\n",
    "    'min_samples_leaf': best_individual[3]\n",
    "}"
   ]
  },
  {
   "cell_type": "code",
   "execution_count": 18,
   "id": "2f234f51",
   "metadata": {},
   "outputs": [
    {
     "name": "stdout",
     "output_type": "stream",
     "text": [
      "\n",
      "Best Individual:\n",
      "Hyperparameters: {'n_estimators': 50, 'max_depth': 10, 'min_samples_split': 10, 'min_samples_leaf': 1}\n",
      "Accuracy: 0.7627852817885422\n"
     ]
    }
   ],
   "source": [
    "print(\"\\nBest Individual:\")\n",
    "print(\"Hyperparameters:\", best_hyperparams)\n",
    "print(\"Accuracy:\", evaluate_individual(best_individual)[0])"
   ]
  },
  {
   "cell_type": "code",
   "execution_count": 19,
   "id": "e8491a82",
   "metadata": {},
   "outputs": [
    {
     "data": {
      "image/png": "[encoded data removed]",
      "text/plain": [
       "<Figure size 1000x600 with 1 Axes>"
      ]
     },
     "metadata": {},
     "output_type": "display_data"
    }
   ],
   "source": [
    "import matplotlib.pyplot as plt\n",
    "\n",
    "# Extract statistics from the logbook\n",
    "gen = logbook.select(\"gen\")\n",
    "avg_fitness = logbook.select(\"avg\")\n",
    "max_fitness = logbook.select(\"max\")\n",
    "min_fitness = logbook.select(\"min\")\n",
    "\n",
    "# Plotting\n",
    "plt.figure(figsize=(10, 6))\n",
    "plt.plot(gen, avg_fitness, label=\"Average Fitness\", color='blue', linewidth=2)\n",
    "plt.plot(gen, max_fitness, label=\"Max Fitness\", color='green', linestyle='--', linewidth=2)\n",
    "plt.plot(gen, min_fitness, label=\"Min Fitness\", color='red', linestyle=':', linewidth=2)\n",
    "\n",
    "plt.xlabel(\"Generation\")\n",
    "plt.ylabel(\"Fitness (Accuracy)\")\n",
    "plt.title(\"Genetic Algorithm Progress: Fitness Over Generations\")\n",
    "plt.legend(loc='lower right')\n",
    "plt.grid(True)\n",
    "plt.tight_layout()\n",
    "plt.show()"
   ]
  },
  {
   "cell_type": "code",
   "execution_count": 20,
   "id": "b405afc7",
   "metadata": {},
   "outputs": [],
   "source": [
    "from sklearn.svm import SVC\n",
    "\n",
    "HYPERPARAMETER_SPACE = {\n",
    "    'C': [0.1, 1, 10, 100],\n",
    "    'kernel': ['linear', 'rbf', 'poly'],\n",
    "    'gamma': [0.001, 0.01, 0.1, 1]\n",
    "}"
   ]
  },
  {
   "cell_type": "code",
   "execution_count": 21,
   "id": "570b30cc",
   "metadata": {},
   "outputs": [
    {
     "name": "stderr",
     "output_type": "stream",
     "text": [
      "c:\\Users\\Utente\\anaconda3\\Lib\\site-packages\\deap\\creator.py:185: RuntimeWarning: A class named 'FitnessMax' has already been created and it will be overwritten. Consider deleting previous creation of that class or rename it.\n",
      "  warnings.warn(\"A class named '{0}' has already been created and it \"\n",
      "c:\\Users\\Utente\\anaconda3\\Lib\\site-packages\\deap\\creator.py:185: RuntimeWarning: A class named 'Individual' has already been created and it will be overwritten. Consider deleting previous creation of that class or rename it.\n",
      "  warnings.warn(\"A class named '{0}' has already been created and it \"\n"
     ]
    }
   ],
   "source": [
    "# Map index to kernel\n",
    "def decode_kernel(index):\n",
    "    return HYPERPARAMETER_SPACE['kernel'][index]\n",
    "\n",
    "creator.create(\"FitnessMax\", base.Fitness, weights=(1.0,))\n",
    "creator.create(\"Individual\", list, fitness=creator.FitnessMax)\n",
    "\n",
    "toolbox = base.Toolbox()"
   ]
  },
  {
   "cell_type": "code",
   "execution_count": 22,
   "id": "e1bc297a",
   "metadata": {},
   "outputs": [],
   "source": [
    "# Create individuals: index-based representation\n",
    "def generate_individual():\n",
    "    return creator.Individual([\n",
    "        random.choice(HYPERPARAMETER_SPACE['C']),\n",
    "        random.randint(0, len(HYPERPARAMETER_SPACE['kernel']) - 1),  # index for kernel\n",
    "        random.choice(HYPERPARAMETER_SPACE['gamma'])\n",
    "    ])\n",
    "\n",
    "toolbox.register(\"individual\", generate_individual)\n",
    "toolbox.register(\"population\", tools.initRepeat, list, toolbox.individual)"
   ]
  },
  {
   "cell_type": "code",
   "execution_count": 23,
   "id": "e1f2bf07",
   "metadata": {},
   "outputs": [],
   "source": [
    "# Evaluate\n",
    "def evaluate_individual(ind):\n",
    "    hyperparameters = {\n",
    "        'C': ind[0],\n",
    "        'kernel': decode_kernel(ind[1]),\n",
    "        'gamma': ind[2]\n",
    "    }\n",
    "\n",
    "    # Only use gamma if kernel is not linear\n",
    "    if hyperparameters['kernel'] == 'linear':\n",
    "        model = SVC(C=hyperparameters['C'], kernel='linear', random_state=42)\n",
    "    else:\n",
    "        model = SVC(**hyperparameters, random_state=42)\n",
    "\n",
    "    score = np.mean(cross_val_score(model, X, y, cv=5, scoring='accuracy'))\n",
    "    return (score,)\n",
    "\n",
    "toolbox.register(\"evaluate\", evaluate_individual)\n",
    "toolbox.register(\"select\", tools.selTournament, tournsize=3)\n",
    "toolbox.register(\"mate\", tools.cxTwoPoint)"
   ]
  },
  {
   "cell_type": "code",
   "execution_count": 25,
   "id": "6d768563",
   "metadata": {},
   "outputs": [],
   "source": [
    "# Mutation bounds\n",
    "toolbox.register(\n",
    "    \"mutate\",\n",
    "    tools.mutUniformInt,\n",
    "    low=[min(HYPERPARAMETER_SPACE['C']),\n",
    "         0,\n",
    "         min(HYPERPARAMETER_SPACE['gamma'])],\n",
    "    up=[max(HYPERPARAMETER_SPACE['C']),\n",
    "        len(HYPERPARAMETER_SPACE['kernel']) - 1,\n",
    "        max(HYPERPARAMETER_SPACE['gamma'])],\n",
    "    indpb=0.1\n",
    ")"
   ]
  },
  {
   "cell_type": "code",
   "execution_count": null,
   "id": "93afd193",
   "metadata": {},
   "outputs": [],
   "source": [
    "# Run GA\n",
    "population = toolbox.population(n=50)\n",
    "hall_of_fame = tools.HallOfFame(1)\n",
    "stats = tools.Statistics(lambda ind: ind.fitness.values[0])\n",
    "stats.register(\"avg\", np.mean)\n",
    "stats.register(\"max\", np.max)\n",
    "stats.register(\"min\", np.min)\n",
    "\n",
    "population, logbook = algorithms.eaSimple(\n",
    "    population,\n",
    "    toolbox,\n",
    "    cxpb=0.5,\n",
    "    mutpb=0.2,\n",
    "    ngen=20,\n",
    "    stats=stats,\n",
    "    halloffame=hall_of_fame,\n",
    "    verbose=True\n",
    ")"
   ]
  },
  {
   "cell_type": "code",
   "execution_count": null,
   "id": "5e901778",
   "metadata": {},
   "outputs": [],
   "source": [
    "# Decode and print best solution\n",
    "best_ind = hall_of_fame[0]\n",
    "best_hyperparams = {\n",
    "    'C': best_ind[0],\n",
    "    'kernel': decode_kernel(best_ind[1]),\n",
    "    'gamma': best_ind[2]\n",
    "}\n",
    "print(\"\\nBest Individual (SVM):\")\n",
    "print(\"Hyperparameters:\", best_hyperparams)\n",
    "print(\"Accuracy:\", evaluate_individual(best_ind)[0])"
   ]
  },
  {
   "cell_type": "code",
   "execution_count": null,
   "id": "0d004f67",
   "metadata": {},
   "outputs": [],
   "source": [
    "# Plot fitness progression\n",
    "gen = logbook.select(\"gen\")\n",
    "avg_fitness = logbook.select(\"avg\")\n",
    "max_fitness = logbook.select(\"max\")\n",
    "min_fitness = logbook.select(\"min\")\n",
    "\n",
    "plt.figure(figsize=(10, 6))\n",
    "plt.plot(gen, avg_fitness, label=\"Average Fitness\", color='blue', linewidth=2)\n",
    "plt.plot(gen, max_fitness, label=\"Max Fitness\", color='green', linestyle='--', linewidth=2)\n",
    "plt.plot(gen, min_fitness, label=\"Min Fitness\", color='red', linestyle=':', linewidth=2)\n",
    "plt.xlabel(\"Generation\")\n",
    "plt.ylabel(\"Fitness (Accuracy)\")\n",
    "plt.title(\"GA Tuning Progress for SVM\")\n",
    "plt.legend()\n",
    "plt.grid(True)\n",
    "plt.tight_layout()\n",
    "plt.show()"
   ]
  }
 ],
 "metadata": {
  "kernelspec": {
   "display_name": "base",
   "language": "python",
   "name": "python3"
  },
  "language_info": {
   "codemirror_mode": {
    "name": "ipython",
    "version": 3
   },
   "file_extension": ".py",
   "mimetype": "text/x-python",
   "name": "python",
   "nbconvert_exporter": "python",
   "pygments_lexer": "ipython3",
   "version": "3.12.7"
  }
 },
 "nbformat": 4,
 "nbformat_minor": 5
}
