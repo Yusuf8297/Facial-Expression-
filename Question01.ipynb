{
 "cells": [
  {
   "cell_type": "code",
   "execution_count": 32,
   "id": "85d24925",
   "metadata": {},
   "outputs": [],
   "source": [
    "\n",
    "from deap import base\n",
    "from deap import creator\n",
    "from deap import tools\n",
    "import random\n",
    "import matplotlib.pyplot as plt"
   ]
  },
  {
   "cell_type": "code",
   "execution_count": 30,
   "id": "d9bbae86",
   "metadata": {},
   "outputs": [],
   "source": [
    "# Test different parameter combinations to find the smallest configuration\n",
    "# that successfully finds a perfect solution (all bits = 1)\n",
    "test_configs = [\n",
    "    (10, 50),    # Test with population of 10, max 50 generations\n",
    "    (10, 100),   # Test with population of 10, max 100 generations\n",
    "    (15, 50),    # Test with population of 15, max 50 generations\n",
    "    (20, 50),    # Test with population of 20, max 50 generations\n",
    "    (25, 50),    # Test with population of 25, max 50 generations\n",
    "]\n"
   ]
  },
  {
   "cell_type": "code",
   "execution_count": 33,
   "id": "029e45fe",
   "metadata": {},
   "outputs": [],
   "source": [
    "# Store results from each test run\n",
    "results = []"
   ]
  },
  {
   "cell_type": "code",
   "execution_count": 34,
   "id": "061563d6",
   "metadata": {},
   "outputs": [
    {
     "name": "stdout",
     "output_type": "stream",
     "text": [
      "\n",
      "============================================================\n",
      "Testing: POPULATION_SIZE=10, MAX_GENERATIONS=50\n",
      "============================================================\n",
      "\n",
      "============================================================\n",
      "Testing: POPULATION_SIZE=10, MAX_GENERATIONS=100\n",
      "============================================================\n",
      "\n",
      "============================================================\n",
      "Testing: POPULATION_SIZE=15, MAX_GENERATIONS=50\n",
      "============================================================\n",
      "\n",
      "============================================================\n",
      "Testing: POPULATION_SIZE=20, MAX_GENERATIONS=50\n",
      "============================================================\n",
      "\n",
      "============================================================\n",
      "Testing: POPULATION_SIZE=25, MAX_GENERATIONS=50\n",
      "============================================================\n"
     ]
    }
   ],
   "source": [
    "# Test each configuration\n",
    "for POPULATION_SIZE, MAX_GENERATIONS in test_configs:\n",
    "    # Print current test configuration\n",
    "    print(f\"\\n{'='*60}\")\n",
    "    print(f\"Testing: POPULATION_SIZE={POPULATION_SIZE}, MAX_GENERATIONS={MAX_GENERATIONS}\")\n",
    "    print(f\"{'='*60}\")"
   ]
  },
  {
   "cell_type": "code",
   "execution_count": 36,
   "id": "dc5817d0",
   "metadata": {},
   "outputs": [],
   "source": [
    "# Genetic Algorithm constants:\n",
    "POPULATION_SIZE = 10\n",
    "P_CROSSOVER = 0.7  # probability for crossover\n",
    "P_MUTATION = 0.01   # probability for mutating an individual\n",
    "MAX_GENERATIONS = 50"
   ]
  },
  {
   "cell_type": "code",
   "execution_count": 37,
   "id": "0b8310e1",
   "metadata": {},
   "outputs": [],
   "source": [
    "RANDOM_SEED = 42\n",
    "random.seed(RANDOM_SEED)"
   ]
  },
  {
   "cell_type": "code",
   "execution_count": 39,
   "id": "610a7d58",
   "metadata": {},
   "outputs": [],
   "source": [
    "toolbox = base.Toolbox()\n",
    "\n",
    "# create an operator that randomly returns 0 or 1:\n",
    "toolbox.register(\"zeroOrOne\", random.randint, 0, 1)\n",
    "\n",
    "# define a single objective, maximizing fitness strategy:\n",
    "creator.create(\"FitnessMax\", base.Fitness, weights=(1.0,))\n",
    "\n",
    "# create the Individual class based on list:\n",
    "creator.create(\"Individual\", list, fitness=creator.FitnessMax)\n",
    "#creator.create(\"Individual\", array.array, typecode='b', fitness=creator.FitnessMax)\n",
    "\n",
    "# create the individual operator to fill up an Individual instance:\n",
    "toolbox.register(\"individualCreator\", tools.initRepeat, creator.Individual, toolbox.zeroOrOne, ONE_MAX_LENGTH)\n",
    "\n",
    "# create the population operator to generate a list of individuals:\n",
    "toolbox.register(\"populationCreator\", tools.initRepeat, list, toolbox.individualCreator)"
   ]
  },
  {
   "cell_type": "code",
   "execution_count": null,
   "id": "7e4cf66a",
   "metadata": {},
   "outputs": [],
   "source": []
  }
 ],
 "metadata": {
  "kernelspec": {
   "display_name": "Python 3",
   "language": "python",
   "name": "python3"
  },
  "language_info": {
   "codemirror_mode": {
    "name": "ipython",
    "version": 3
   },
   "file_extension": ".py",
   "mimetype": "text/x-python",
   "name": "python",
   "nbconvert_exporter": "python",
   "pygments_lexer": "ipython3",
   "version": "3.11.3"
  }
 },
 "nbformat": 4,
 "nbformat_minor": 5
}
