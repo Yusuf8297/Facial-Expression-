{
 "cells": [
  {
   "cell_type": "markdown",
   "id": "099953e1",
   "metadata": {},
   "source": [
    "Imports and Configuration"
   ]
  },
  {
   "cell_type": "code",
   "execution_count": 60,
   "id": "b29ebd98",
   "metadata": {},
   "outputs": [],
   "source": [
    "from deap import base\n",
    "from deap import creator\n",
    "from deap import tools\n",
    "\n",
    "import random\n",
    "import matplotlib.pyplot as plt\n",
    "\n",
    "# Test different parameter combinations to find the smallest configuration\n",
    "# that successfully finds a perfect solution (all bits = 1)\n",
    "test_configs = [\n",
    "    (50, 100),    # Test with population of 50, max 100 generations\n",
    "    (100, 100),    # Test with population of 100, max 100 generations\n",
    "    (200, 100),    # Test with population of 200, max 100 generations\n",
    "    (300, 100),    # Test with population of 300, max 100 generations\n",
    "    (400, 100),    # Test with population of 400, max 100 generations\n",
    "    (500, 100),    # Test with population of 500, max 100 generations\n",
    "    (600, 100),    # Test with population of 600, max 100 generations\n",
    "    (700, 100),    # Test with population of 700, max 100 generations\n",
    "    (800, 100),    # Test with population of 800, max 100 generations\n",
    "]\n",
    "\n",
    "# Store results from each test run\n",
    "results = []"
   ]
  },
  {
   "cell_type": "code",
   "execution_count": null,
   "id": "96293324",
   "metadata": {},
   "outputs": [],
   "source": []
  },
  {
   "cell_type": "code",
   "execution_count": null,
   "id": "0a289e15",
   "metadata": {},
   "outputs": [],
   "source": [
    "import matplotlib.pyplot as plt\n",
    "\n",
    "# Test different parameter combinations to find the smallest configuration\n",
    "# that successfully finds a perfect solution (all bits = 1)\n",
    "test_configs = [\n",
    "    (50, 100),    # Test with population of 50, max 100 generations\n",
    "    (100, 100),    # Test with population of 100, max 100 generations\n",
    "    (200, 100),    # Test with population of 200, max 100 generations\n",
    "    (300, 100),    # Test with population of 300, max 100 generations\n",
    "    (400, 100),    # Test with population of 400, max 100 generations\n",
    "    (500, 100),    # Test with population of 500, max 100 generations\n",
    "   \n",
    "]\n",
    "\n",
    "# Store results from each test run\n",
    "results = []"
   ]
  },
  {
   "cell_type": "code",
   "execution_count": 51,
   "id": "1fbc8a74",
   "metadata": {},
   "outputs": [],
   "source": [
    "P_CROSSOVER = 0.7  # probability for crossover\n",
    "P_MUTATION = 0.01   # probability for mutating an individual\n",
    "ONE_MAX_LENGTH = 50 "
   ]
  },
  {
   "cell_type": "code",
   "execution_count": 52,
   "id": "30c6db97",
   "metadata": {},
   "outputs": [],
   "source": [
    "RANDOM_SEED = 42\n",
    "random.seed(RANDOM_SEED)"
   ]
  },
  {
   "cell_type": "code",
   "execution_count": 53,
   "id": "c433d62e",
   "metadata": {},
   "outputs": [],
   "source": [
    "\n",
    "toolbox = base.Toolbox()\n",
    "\n",
    "# create an operator that randomly returns 0 or 1:\n",
    "toolbox.register(\"zeroOrOne\", random.randint, 0, 1)\n",
    "\n",
    "# define a single objective, maximizing fitness strategy:\n",
    "creator.create(\"FitnessMax\", base.Fitness, weights=(1.0,))\n",
    "\n",
    "# create the Individual class based on list:\n",
    "creator.create(\"Individual\", list, fitness=creator.FitnessMax)\n",
    "\n",
    "# create the individual operator to fill up an Individual instance:\n",
    "toolbox.register(\"individualCreator\", tools.initRepeat, creator.Individual, toolbox.zeroOrOne, ONE_MAX_LENGTH)\n",
    "\n",
    "# create the population operator to generate a list of individuals:\n",
    "toolbox.register(\"populationCreator\", tools.initRepeat, list, toolbox.individualCreator)"
   ]
  },
  {
   "cell_type": "code",
   "execution_count": 54,
   "id": "d1c2a454",
   "metadata": {},
   "outputs": [],
   "source": [
    "\n",
    "# fitness calculation:\n",
    "# compute the number of '1's in the individual\n",
    "def oneMaxFitness(individual):\n",
    "    return sum(individual),  # return a tuple\n",
    "\n",
    "toolbox.register(\"evaluate\", oneMaxFitness)\n",
    "\n",
    "# genetic operators:\n",
    "\n",
    "# Roulette wheel selection (fitness-proportionate selection):\n",
    "# Individuals are selected with probability proportional to their fitness\n",
    "toolbox.register(\"select\", tools.selRoulette)\n",
    "\n",
    "# Single-point crossover:\n",
    "toolbox.register(\"mate\", tools.cxOnePoint)\n",
    "\n",
    "# Flip-bit mutation:\n",
    "# indpb: Independent probability for each attribute to be flipped\n",
    "toolbox.register(\"mutate\", tools.mutFlipBit, indpb=1.0/ONE_MAX_LENGTH)"
   ]
  },
  {
   "cell_type": "code",
   "execution_count": 55,
   "id": "99fe2121",
   "metadata": {},
   "outputs": [
    {
     "name": "stdout",
     "output_type": "stream",
     "text": [
      "\n",
      "============================================================\n",
      "Testing: POPULATION_SIZE=50, MAX_GENERATIONS=100\n",
      "============================================================\n",
      "\n",
      "============================================================\n",
      "Testing: POPULATION_SIZE=100, MAX_GENERATIONS=100\n",
      "============================================================\n",
      "\n",
      "============================================================\n",
      "Testing: POPULATION_SIZE=200, MAX_GENERATIONS=100\n",
      "============================================================\n",
      "\n",
      "============================================================\n",
      "Testing: POPULATION_SIZE=300, MAX_GENERATIONS=100\n",
      "============================================================\n",
      "\n",
      "============================================================\n",
      "Testing: POPULATION_SIZE=400, MAX_GENERATIONS=100\n",
      "============================================================\n",
      "\n",
      "============================================================\n",
      "Testing: POPULATION_SIZE=500, MAX_GENERATIONS=100\n",
      "============================================================\n"
     ]
    }
   ],
   "source": [
    "\n",
    "for POPULATION_SIZE, MAX_GENERATIONS in test_configs:\n",
    "    # Print current test configuration\n",
    "    print(f\"\\n{'='*60}\")\n",
    "    print(f\"Testing: POPULATION_SIZE={POPULATION_SIZE}, MAX_GENERATIONS={MAX_GENERATIONS}\")\n",
    "    print(f\"{'='*60}\")\n",
    "    \n",
    "    # Clean up and recreate creators for each test (to avoid conflicts)\n",
    "    if hasattr(creator, 'FitnessMax'):\n",
    "        del creator.FitnessMax\n",
    "    if hasattr(creator, 'Individual'):\n",
    "        del creator.Individual\n",
    "        \n",
    "    creator.create(\"FitnessMax\", base.Fitness, weights=(1.0,))\n",
    "    creator.create(\"Individual\", list, fitness=creator.FitnessMax)\n",
    "    \n",
    "    # create initial population (generation 0):\n",
    "    population = toolbox.populationCreator(n=POPULATION_SIZE)\n",
    "    generationCounter = 0\n",
    "\n",
    "    # calculate fitness tuple for each individual in the population:\n",
    "    fitnessValues = list(map(toolbox.evaluate, population))\n",
    "    for individual, fitnessValue in zip(population, fitnessValues):\n",
    "        individual.fitness.values = fitnessValue\n",
    "\n",
    "    # extract fitness values from all individuals in population:\n",
    "    fitnessValues = [individual.fitness.values[0] for individual in population]\n",
    "\n",
    "    # initialize statistics accumulators:\n",
    "    maxFitnessValues = []\n",
    "    meanFitnessValues = []"
   ]
  },
  {
   "cell_type": "code",
   "execution_count": 57,
   "id": "3e4d9ac4",
   "metadata": {},
   "outputs": [],
   "source": [
    "\n",
    "    while max(fitnessValues) < ONE_MAX_LENGTH and generationCounter < MAX_GENERATIONS:\n",
    "        # update counter:\n",
    "        generationCounter = generationCounter + 1\n",
    "\n",
    "        # apply the selection operator, to select the next generation's individuals:\n",
    "        offspring = toolbox.select(population, len(population))\n",
    "        # clone the selected individuals (necessary for proper GA operation):\n",
    "        # Without cloning, we would modify the original population directly\n",
    "        offspring = list(map(toolbox.clone, offspring))\n",
    "\n",
    "        # apply the crossover operator to pairs of offspring:\n",
    "        for child1, child2 in zip(offspring[::2], offspring[1::2]):\n",
    "            if random.random() < P_CROSSOVER:\n",
    "                toolbox.mate(child1, child2)\n",
    "                del child1.fitness.values\n",
    "                del child2.fitness.values\n",
    "\n",
    "        for mutant in offspring:\n",
    "            if random.random() < P_MUTATION:\n",
    "                toolbox.mutate(mutant)\n",
    "                del mutant.fitness.values\n",
    "\n",
    "        # calculate fitness for the individuals with no previous calculated fitness value:\n",
    "        freshIndividuals = [ind for ind in offspring if not ind.fitness.valid]\n",
    "        freshFitnessValues = list(map(toolbox.evaluate, freshIndividuals))\n",
    "        for individual, fitnessValue in zip(freshIndividuals, freshFitnessValues):\n",
    "            individual.fitness.values = fitnessValue\n",
    "\n",
    "        # replace the current population with the offspring:\n",
    "        population[:] = offspring\n",
    "\n",
    "        # collect fitnessValues into a list, update statistics and print:\n",
    "        fitnessValues = [ind.fitness.values[0] for ind in population]\n",
    "\n",
    "        maxFitness = max(fitnessValues)\n",
    "        meanFitness = sum(fitnessValues) / len(population)\n",
    "        maxFitnessValues.append(maxFitness)\n",
    "        meanFitnessValues.append(meanFitness)\n",
    "        print(\"- Generation {}: Max Fitness = {}, Avg Fitness = {}\".format(generationCounter, maxFitness, meanFitness))\n",
    "\n",
    "        # find and print best individual:\n",
    "        best_index = fitnessValues.index(max(fitnessValues))\n",
    "        print(\"Best Individual = \", *population[best_index], \"\\n\")"
   ]
  },
  {
   "cell_type": "code",
   "execution_count": 62,
   "id": "ff0aa119",
   "metadata": {},
   "outputs": [
    {
     "name": "stdout",
     "output_type": "stream",
     "text": [
      "\n",
      "*** SUCCESS! Perfect solution found in generation 94\n",
      "*** Individuals processed: 47000 (500 × 94)\n"
     ]
    }
   ],
   "source": [
    "\n",
    "    # A perfect solution has all bits set to 1, so fitness = ONE_MAX_LENGTH\n",
    "    if max(fitnessValues) == ONE_MAX_LENGTH:\n",
    "        # Calculate total individuals processed (population size × generations)\n",
    "        individuals_processed = POPULATION_SIZE * generationCounter\n",
    "        print(f\"\\n*** SUCCESS! Perfect solution found in generation {generationCounter}\")\n",
    "        print(f\"*** Individuals processed: {individuals_processed} ({POPULATION_SIZE} × {generationCounter})\")\n",
    "        # Store result: (pop_size, max_gen, actual_gen_used, individuals_processed, success_flag)\n",
    "        results.append((POPULATION_SIZE, MAX_GENERATIONS, generationCounter, individuals_processed, True))\n",
    "    else:\n",
    "        print(f\"\\n*** FAILED - Did not find perfect solution within {MAX_GENERATIONS} generations\")\n",
    "        # Store failed result\n",
    "        results.append((POPULATION_SIZE, MAX_GENERATIONS, generationCounter, None, False))\n",
    "   "
   ]
  },
  {
   "cell_type": "code",
   "execution_count": 63,
   "id": "9e0fbd93",
   "metadata": {},
   "outputs": [
    {
     "data": {
      "image/png": "[encoded data removed]",
      "text/plain": [
       "<Figure size 1000x600 with 1 Axes>"
      ]
     },
     "metadata": {},
     "output_type": "display_data"
    }
   ],
   "source": [
    " \n",
    "    # Genetic Algorithm is done - plot statistics:\n",
    "    plt.figure(figsize=(10, 6))\n",
    "    plt.plot(maxFitnessValues, color='red', label='Max Fitness')\n",
    "    plt.plot(meanFitnessValues, color='green', label='Average Fitness')\n",
    "    plt.xlabel('Generation')\n",
    "    plt.ylabel('Max / Average Fitness')\n",
    "    plt.title(f'Max and Average Fitness over Generations (Pop={POPULATION_SIZE}, MaxGen={MAX_GENERATIONS})')\n",
    "    plt.legend()\n",
    "    plt.show()"
   ]
  }
 ],
 "metadata": {
  "kernelspec": {
   "display_name": "Python 3",
   "language": "python",
   "name": "python3"
  },
  "language_info": {
   "codemirror_mode": {
    "name": "ipython",
    "version": 3
   },
   "file_extension": ".py",
   "mimetype": "text/x-python",
   "name": "python",
   "nbconvert_exporter": "python",
   "pygments_lexer": "ipython3",
   "version": "3.11.3"
  }
 },
 "nbformat": 4,
 "nbformat_minor": 5
}
